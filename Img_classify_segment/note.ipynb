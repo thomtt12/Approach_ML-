{
 "cells": [
  {
   "cell_type": "markdown",
   "source": [
    "Image is a matrix of numbers\r\n",
    "A grayscale image is a two-dimensional matrix with values ranging from 0 (black) to 255(white)\r\n",
    "Each pixel was a feature, read the grayscale image using OpenCV or Python-PIL, convert to a numpy array and ravel(flatten) the matrix\r\n",
    "RGB images have three matrics instead of one\r\n",
    "  "
   ],
   "metadata": {}
  },
  {
   "cell_type": "code",
   "execution_count": null,
   "source": [
    "#generates a random matrix using numpy \r\n",
    "import numpy as np \r\n",
    "import matplotlib.pyplot as plt\r\n",
    "\r\n",
    "#gen random numpy arr with values from 0 to 255, size 256x256\r\n",
    "random_image = np.random.randint(0, 256, (256,256))\r\n",
    "#initalize plot \r\n",
    "plt.figure(figsize=(7,7))\r\n",
    "#show grayscale image\r\n",
    "plt.imshow(random_image, cmap='gray', vmin =0, vmax=255)\r\n",
    "plt.show()"
   ],
   "outputs": [],
   "metadata": {}
  },
  {
   "cell_type": "markdown",
   "source": [
    "Building a model to detect if an X-ray image of a lung has pneumothorax or not\r\n",
    "with dataset: https://www.kaggle.com/c/siim-acr-pneumothorax-segmentation\r\n",
    "Dataset consists of 10675 unique images and 2379 have pneunomthorax\r\n",
    "---\r\n",
    "- Binary classification with skewed data >> choose evaluation metric AUC and stratified k-fold cross-validation \r\n",
    "-  the images are of size 1024x1024 >> take a long time to train a model >> resize the images to 256x256 "
   ],
   "metadata": {}
  },
  {
   "cell_type": "code",
   "execution_count": null,
   "source": [
    "import os\r\n",
    "import numpy as np\r\n",
    "import pandas as pd\r\n",
    "from PIL import Image\r\n",
    "from sklearn import ensemble\r\n",
    "from sklearn import metrics\r\n",
    "from sklearn import model_selection\r\n",
    "from tqdm import tqdm\r\n",
    "\r\n",
    "\r\n",
    "def create_dataset(training_df, image_dir):\r\n",
    "    \"\"\"\r\n",
    "    training_df: dataframe with ImageId, Target columns\r\n",
    "    image_dir: location of images (folder), string\r\n",
    "    return: X, y (training array with features and labels)\r\n",
    "    \"\"\"\r\n",
    "    # create empty list to store image vectors\r\n",
    "    images = []\r\n",
    "    # create empty list to store targets\r\n",
    "    targets = []\r\n",
    "    # loop over the dataframe\r\n",
    "    for index, row in tqdm(\r\n",
    "        training_df.iterrows(),\r\n",
    "        total=len(training_df),\r\n",
    "        desc=\"processing images\"\r\n",
    "    ):\r\n",
    "        # get image id\r\n",
    "        image_id = row[\"ImageId\"]\r\n",
    "        # create image path\r\n",
    "        image_path = os.path.join(image_dir, image_id)\r\n",
    "        # open image using PIL\r\n",
    "        image = Image.open(image_path + \".png\")\r\n",
    "        # resize image to 256x256. we use bilinear resampling\r\n",
    "        image = image.resize((256, 256), resample=Image.BILINEAR)\r\n",
    "        # convert image to array\r\n",
    "        image = np.array(image)\r\n",
    "        # ravel\r\n",
    "        image = image.ravel()\r\n",
    "        # append images and targets lists\r\n",
    "        images.append(image)\r\n",
    "        targets.append(int(row[\"target\"]))\r\n",
    "    # convert list of list of images to numpy array\r\n",
    "    images = np.array(images)\r\n",
    "    # print size of this array\r\n",
    "    print(images.shape)\r\n",
    "    return images, targets\r\n",
    "if __name__ == \"__main__\":\r\n",
    "    csv_path = \"C:\\Users\\thomtt10\\Documents\\PRACTICE_CODE\\Approach_book\\Img_clasify_segment\\input\\siim_train.csv\"\r\n",
    "    image_path = \"C:\\Users\\thomtt10\\Documents\\PRACTICE_CODE\\Approach_book\\Img_clasify_segment\\input\\siim_train_png/\"\r\n",
    "    # read CSV with imageid and target columns\r\n",
    "    df = pd.read_csv(csv_path)\r\n",
    "    # we create a new column called kfold and fill it with -1\r\n",
    "    df[\"kfold\"] = -1\r\n",
    "    # the next step is to randomize the rows of the data\r\n",
    "    df = df.sample(frac=1).reset_index(drop=True)\r\n",
    "    # fetch labels\r\n",
    "    y = df.target.values\r\n",
    "    # initiate the kfold class from model_selection module\r\n",
    "    kf = model_selection.StratifiedKFold(n_splits=5)\r\n",
    "    # fill the new kfold column\r\n",
    "    for f, (t_, v_) in enumerate(kf.split(X=df, y=y)):\r\n",
    "        df.loc[v_, 'kfold'] = f\r\n",
    "    # we go over the folds created\r\n",
    "    for fold_ in range(5):\r\n",
    "        # temporary dataframes for train and test\r\n",
    "        train_df = df[df.kfold != fold_].reset_index(drop=True)\r\n",
    "        test_df = df[df.kfold == fold_].reset_index(drop=True)\r\n",
    "        # create train dataset\r\n",
    "        # you can move this outside to save some computation time\r\n",
    "        xtrain, ytrain = create_dataset(train_df, image_path)\r\n",
    "        # create test dataset\r\n",
    "        # you can move this outside to save some computation time\r\n",
    "        xtest, ytest = create_dataset(test_df, image_path)\r\n",
    "        # fit random forest without any modification of params\r\n",
    "        clf = ensemble.RandomForestClassifier(n_jobs=-1)\r\n",
    "        clf.fit(xtrain, ytrain)\r\n",
    "        # predict probability of class 1\r\n",
    "        preds = clf.predict_proba(xtest)[:, 1]\r\n",
    "        # print results\r\n",
    "        print(f\"FOLD: {fold_}\")\r\n",
    "        print(f\"AUC = {metrics.roc_auc_score(ytest, preds)}\")\r\n",
    "       "
   ],
   "outputs": [],
   "metadata": {}
  },
  {
   "cell_type": "markdown",
   "source": [
    "Filters: two-dimensional matrices which are initialized by a given function \r\n",
    "Activation function: ReLU(Rectified Linear Units) and proper initialization is required to avoid the problem of vanishing gradients (when gradients approach zero and weights of network do not change)\r\n",
    "\r\n",
    "Filter is convolved with the image. Convolution is  a summation of elementwise multiplication (crosscorrelation) between the filter and the pixels it is currently overlapping in a given\r\n",
    "image\r\n"
   ],
   "metadata": {}
  }
 ],
 "metadata": {
  "orig_nbformat": 4,
  "language_info": {
   "name": "python",
   "version": "3.8.3",
   "mimetype": "text/x-python",
   "codemirror_mode": {
    "name": "ipython",
    "version": 3
   },
   "pygments_lexer": "ipython3",
   "nbconvert_exporter": "python",
   "file_extension": ".py"
  },
  "kernelspec": {
   "name": "python3",
   "display_name": "Python 3.8.3 64-bit ('base': conda)"
  },
  "interpreter": {
   "hash": "9f54772c6dbcef3e2bbb3b58a12d0ea93cc39e8d73ca8d1792b5e194a83990cc"
  }
 },
 "nbformat": 4,
 "nbformat_minor": 2
}