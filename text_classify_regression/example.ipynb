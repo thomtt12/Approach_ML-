{
 "cells": [
  {
   "cell_type": "code",
   "execution_count": 5,
   "source": [
    "import nltk \n",
    "# nltk.download('punkt')\n",
    "from nltk.tokenize import word_tokenize\n",
    "sentence = \"hi, how are you ?\"\n",
    "sentence.split()"
   ],
   "outputs": [
    {
     "output_type": "execute_result",
     "data": {
      "text/plain": [
       "['hi,', 'how', 'are', 'you', '?']"
      ]
     },
     "metadata": {},
     "execution_count": 5
    }
   ],
   "metadata": {}
  },
  {
   "cell_type": "code",
   "execution_count": 12,
   "source": [
    "import nltk\n",
    "nltk.download('punkt')"
   ],
   "outputs": [
    {
     "output_type": "stream",
     "name": "stdout",
     "text": [
      "[nltk_data] Downloading package punkt to /home/dua/nltk_data...\n",
      "[nltk_data]   Unzipping tokenizers/punkt.zip.\n"
     ]
    },
    {
     "output_type": "execute_result",
     "data": {
      "text/plain": [
       "True"
      ]
     },
     "metadata": {},
     "execution_count": 12
    }
   ],
   "metadata": {}
  },
  {
   "cell_type": "markdown",
   "source": [
    "Model: bag of words, \n",
    "- create a huge sparse matrix that stores counts of all the words in our corpus (corpus = all the documents = all the sentences)\n",
    "- Using CountVectorizer from scikit-learn "
   ],
   "metadata": {}
  },
  {
   "cell_type": "code",
   "execution_count": 8,
   "source": [
    "from sklearn.feature_extraction.text import CountVectorizer\n",
    "\n",
    "# create a corpus of sentences\n",
    "corpus = [\n",
    "    \"hello, how are you?\",\n",
    "    \"I'm quarantined because of corona. And you?\",\n",
    "    \"did you know about counts\",\n",
    "    \"let's see if this works!\",\n",
    "    \"YES!!!!\"\n",
    "    ]\n",
    "# initialize CountVectorizer\n",
    "ctv = CountVectorizer()\n",
    "# fit the vectorizer on corpus\n",
    "ctv.fit(corpus)\n",
    "corpus_transformed = ctv.transform(corpus)\n",
    "print(corpus_transformed)"
   ],
   "outputs": [
    {
     "output_type": "stream",
     "name": "stdout",
     "text": [
      "  (0, 2)\t1\n",
      "  (0, 7)\t1\n",
      "  (0, 8)\t1\n",
      "  (0, 18)\t1\n",
      "  (1, 1)\t1\n",
      "  (1, 3)\t1\n",
      "  (1, 4)\t1\n",
      "  (1, 12)\t1\n",
      "  (1, 13)\t1\n",
      "  (1, 18)\t1\n",
      "  (2, 0)\t1\n",
      "  (2, 5)\t1\n",
      "  (2, 6)\t1\n",
      "  (2, 10)\t1\n",
      "  (2, 18)\t1\n",
      "  (3, 9)\t1\n",
      "  (3, 11)\t1\n",
      "  (3, 14)\t1\n",
      "  (3, 15)\t1\n",
      "  (3, 16)\t1\n",
      "  (4, 17)\t1\n"
     ]
    }
   ],
   "metadata": {}
  },
  {
   "cell_type": "code",
   "execution_count": 10,
   "source": [
    "print(ctv.vocabulary_)"
   ],
   "outputs": [
    {
     "output_type": "stream",
     "name": "stdout",
     "text": [
      "{'hello': 7, 'how': 8, 'are': 2, 'you': 18, 'quarantined': 13, 'because': 3, 'of': 12, 'corona': 4, 'and': 1, 'did': 6, 'know': 10, 'about': 0, 'counts': 5, 'let': 11, 'see': 14, 'if': 9, 'this': 15, 'works': 16, 'yes': 17}\n"
     ]
    }
   ],
   "metadata": {}
  },
  {
   "cell_type": "code",
   "execution_count": 13,
   "source": [
    "from sklearn.feature_extraction.text import CountVectorizer\n",
    "from nltk.tokenize import word_tokenize\n",
    "# create a corpus of sentences\n",
    "corpus = [\n",
    "    \"hello, how are you?\",\n",
    "    \"I'm quarantined because of corona. And you?\",\n",
    "    \"did you know about counts\",\n",
    "    \"let's see if this works!\",\n",
    "    \"YES!!!!\"\n",
    "]\n",
    "# initialize CountVectorizer with word_tokenize from nltk as the tokenizer\n",
    "ctv = CountVectorizer(tokenizer=word_tokenize, token_pattern=None)\n",
    "# fit the vectorizer on corpus\n",
    "ctv.fit(corpus)\n",
    "corpus_transformed = ctv.transform(corpus)\n",
    "print(ctv.vocabulary_)\n"
   ],
   "outputs": [
    {
     "output_type": "stream",
     "name": "stdout",
     "text": [
      "{'hello': 13, ',': 3, 'how': 14, 'are': 8, 'you': 25, '?': 5, 'i': 15, \"'m\": 1, 'quarantined': 20, 'because': 9, 'of': 19, 'corona': 10, '.': 4, 'and': 7, 'did': 12, 'know': 17, 'about': 6, 'counts': 11, 'let': 18, \"'s\": 2, 'see': 21, 'if': 16, 'this': 22, 'works': 23, '!': 0, 'yes': 24}\n"
     ]
    }
   ],
   "metadata": {}
  },
  {
   "cell_type": "code",
   "execution_count": 14,
   "source": [
    "from sklearn.feature_extraction.text import TfidfVectorizer\n",
    "from nltk.tokenize import word_tokenize\n",
    "# create a corpus of sentences\n",
    "corpus = [\n",
    "    \"hello, how are you?\",\n",
    "    \"I'm quarantined because of corona. And you?\",\n",
    "    \"did you know about counts\",\n",
    "    \"let's see if this works!\",\n",
    "    \"YES!!!!\"\n",
    "]\n",
    "\n",
    "# initialize TfidfVectorizer with word_tokenize from nltk\n",
    "# as the tokenizer\n",
    "tfv = TfidfVectorizer(tokenizer=word_tokenize, token_pattern=None)\n",
    "# fit the vectorizer on corpus\n",
    "tfv.fit(corpus)\n",
    "corpus_transformed = tfv.transform(corpus)\n",
    "print(corpus_transformed)\n"
   ],
   "outputs": [
    {
     "output_type": "stream",
     "name": "stdout",
     "text": [
      "  (0, 25)\t0.2965698850220162\n",
      "  (0, 14)\t0.4428321995085722\n",
      "  (0, 13)\t0.4428321995085722\n",
      "  (0, 8)\t0.4428321995085722\n",
      "  (0, 5)\t0.35727423026525224\n",
      "  (0, 3)\t0.4428321995085722\n",
      "  (1, 25)\t0.22201420768112579\n",
      "  (1, 20)\t0.3315071585986802\n",
      "  (1, 19)\t0.3315071585986802\n",
      "  (1, 15)\t0.3315071585986802\n",
      "  (1, 10)\t0.3315071585986802\n",
      "  (1, 9)\t0.3315071585986802\n",
      "  (1, 7)\t0.3315071585986802\n",
      "  (1, 5)\t0.2674578882186088\n",
      "  (1, 4)\t0.3315071585986802\n",
      "  (1, 1)\t0.3315071585986802\n",
      "  (2, 25)\t0.31752680284846835\n",
      "  (2, 17)\t0.4741246485558491\n",
      "  (2, 12)\t0.4741246485558491\n",
      "  (2, 11)\t0.4741246485558491\n",
      "  (2, 6)\t0.4741246485558491\n",
      "  (3, 23)\t0.38775666010579296\n",
      "  (3, 22)\t0.38775666010579296\n",
      "  (3, 21)\t0.38775666010579296\n",
      "  (3, 18)\t0.38775666010579296\n",
      "  (3, 16)\t0.38775666010579296\n",
      "  (3, 2)\t0.38775666010579296\n",
      "  (3, 0)\t0.3128396318588854\n",
      "  (4, 24)\t0.2959842226518677\n",
      "  (4, 0)\t0.9551928286692534\n"
     ]
    }
   ],
   "metadata": {}
  },
  {
   "cell_type": "markdown",
   "source": [
    "**ngrams are combinations of words in order**\n"
   ],
   "metadata": {}
  },
  {
   "cell_type": "code",
   "execution_count": 15,
   "source": [
    "from nltk import ngrams\n",
    "from nltk.tokenize import word_tokenize\n",
    "# let's see 3 grams\n",
    "N = 3\n",
    "# input sentence\n",
    "sentence = \"hi, how are you?\"\n",
    "# tokenized sentence\n",
    "tokenized_sentence = word_tokenize(sentence)\n",
    "# generate n_grams\n",
    "n_grams = list(ngrams(tokenized_sentence, N))\n",
    "print(n_grams)"
   ],
   "outputs": [
    {
     "output_type": "stream",
     "name": "stdout",
     "text": [
      "[('hi', ',', 'how'), (',', 'how', 'are'), ('how', 'are', 'you'), ('are', 'you', '?')]\n"
     ]
    }
   ],
   "metadata": {}
  },
  {
   "cell_type": "code",
   "execution_count": null,
   "source": [],
   "outputs": [],
   "metadata": {}
  }
 ],
 "metadata": {
  "orig_nbformat": 4,
  "language_info": {
   "name": "python",
   "version": "3.7.0",
   "mimetype": "text/x-python",
   "codemirror_mode": {
    "name": "ipython",
    "version": 3
   },
   "pygments_lexer": "ipython3",
   "nbconvert_exporter": "python",
   "file_extension": ".py"
  },
  "kernelspec": {
   "name": "python3",
   "display_name": "Python 3.7.0 64-bit ('base': conda)"
  },
  "interpreter": {
   "hash": "0e8ca4fea3fc44f084e5a88307ff027a4084c99ef5cf79f6c4c2eadb45e0ef77"
  }
 },
 "nbformat": 4,
 "nbformat_minor": 2
}