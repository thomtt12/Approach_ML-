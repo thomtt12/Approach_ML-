{
 "cells": [
  {
   "cell_type": "code",
   "execution_count": null,
   "source": [
    "#StratifiedKFold\n",
    "#create_folds.py\n",
    "import pandas as pd\n",
    "from sklearn import model_selection \n",
    " \n",
    "if __name__ == \"__main__\":\n",
    "    #reading training data\n",
    "    df = pd.read_csv(\"/home/vbdirtx5000/Desktop/thomtt/Approach/variables/train.csv\")\n",
    "    # tạo cột mới là kfold, fill với -1 \n",
    "    df[\"kfold\"]=-1\n",
    "    #randomize the rows of the data\n",
    "    df = df.sample(frac=1).reset_index(drop=True)\n",
    "    #fetch labels\n",
    "    y = df.target.values\n",
    "    #initiate kfold class from model_selection module\n",
    "    kf = model_selection.StratifiedKFold(n_splits = 5)\n",
    "    #fill the new kfold column\n",
    "    for f, (t_, v_) in enumerate(kf.split(X=df, y=y)):\n",
    "        df.loc[v_, 'kfold'] = f\n",
    "    # save the new csv with kfold column\n",
    "    df.to_csv(\"../input/cat_train_folds.csv\", index=False)"
   ],
   "outputs": [],
   "metadata": {}
  },
  {
   "cell_type": "code",
   "execution_count": 2,
   "source": [
    "import pandas as pd\n",
    "df = pd.read_csv(\"/home/vbdirtx5000/Desktop/thomtt/Approach/variables/input/train_folds.csv\")\n",
    "df.kfold.value_counts()"
   ],
   "outputs": [
    {
     "output_type": "execute_result",
     "data": {
      "text/plain": [
       "0    120000\n",
       "1    120000\n",
       "2    120000\n",
       "3    120000\n",
       "4    120000\n",
       "Name: kfold, dtype: int64"
      ]
     },
     "metadata": {},
     "execution_count": 2
    }
   ],
   "metadata": {}
  },
  {
   "cell_type": "code",
   "execution_count": 5,
   "source": [
    "# check the target distribution per fold\n",
    "df[df.kfold==0].target.value_counts()"
   ],
   "outputs": [
    {
     "output_type": "execute_result",
     "data": {
      "text/plain": [
       "0    97536\n",
       "1    22464\n",
       "Name: target, dtype: int64"
      ]
     },
     "metadata": {},
     "execution_count": 5
    }
   ],
   "metadata": {}
  },
  {
   "cell_type": "code",
   "execution_count": 4,
   "source": [
    "df[df.kfold==1].target.value_counts()"
   ],
   "outputs": [
    {
     "output_type": "execute_result",
     "data": {
      "text/plain": [
       "0    97536\n",
       "1    22464\n",
       "Name: target, dtype: int64"
      ]
      
     },
     "metadata": {},
     "execution_count": 4
    }
   ],
   "metadata": {}
  },
  {
   "cell_type": "code",
   "execution_count": null,
   "source": [],
   "outputs": [],
   "metadata": {}
  }
 ],
 "metadata": {
  "orig_nbformat": 4,
  "language_info": {
   "name": "python",
   "version": "3.8.8",
   "mimetype": "text/x-python",
   "codemirror_mode": {
    "name": "ipython",
    "version": 3
   },
   "pygments_lexer": "ipython3",
   "nbconvert_exporter": "python",
   "file_extension": ".py"
  },
  "kernelspec": {
   "name": "python3",
   "display_name": "Python 3.8.8 64-bit ('env_sgdti': conda)"
  },
  "interpreter": {
   "hash": "ca96bf20b01da97f5d5c2ba11f7880d1f3e12dcf46a7f20a11284086222e5b0f"
  }
 },
 "nbformat": 4,
 "nbformat_minor": 2
}
