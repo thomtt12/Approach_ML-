{
 "cells": [
  {
   "cell_type": "code",
   "execution_count": 1,
   "metadata": {},
   "outputs": [],
   "source": [
    "def accuracy(y_true, y_pred):\r\n",
    "    #initialize a counter for correct predictions\r\n",
    "    correct_counter =0 \r\n",
    "    #loop over all elements of y_true \r\n",
    "    for yt, yp in zip(y_true, y_pred):\r\n",
    "        if yt == yp:\r\n",
    "            # if prediction is equal to truth,increase the counter\r\n",
    "            correct_counter +=1\r\n",
    "    #return acc: \r\n",
    "    return correct_counter/len(y_true)\r\n"
   ]
  },
  {
   "cell_type": "code",
   "execution_count": 2,
   "metadata": {},
   "outputs": [
    {
     "data": {
      "text/plain": [
       "0.625"
      ]
     },
     "execution_count": 2,
     "metadata": {},
     "output_type": "execute_result"
    }
   ],
   "source": [
    "from sklearn import metrics\r\n",
    "l1 = [0,1,1,1,0,0,0,1]\r\n",
    "l2 = [0,1, 0,1,0,1,0,0]\r\n",
    "metrics.accuracy_score(l1, l2)\r\n"
   ]
  },
  {
   "cell_type": "code",
   "execution_count": 4,
   "metadata": {},
   "outputs": [],
   "source": [
    "def true_positive(y_true, y_pred):\r\n",
    "    tp=0\r\n",
    "    for yt, yp in zip(y_true, y_pred):\r\n",
    "        if yt ==1 and yp==1:\r\n",
    "            tp+=1\r\n",
    "    return tp"
   ]
  },
  {
   "cell_type": "code",
   "execution_count": 5,
   "metadata": {},
   "outputs": [
    {
     "data": {
      "text/plain": [
       "2"
      ]
     },
     "execution_count": 5,
     "metadata": {},
     "output_type": "execute_result"
    }
   ],
   "source": [
    "l1 = [0,1,1,1,0,0,0,1]\r\n",
    "l2 = [0,1, 0,1,0,1,0,0]\r\n",
    "true_positive(l1, l2)"
   ]
  },
  {
   "cell_type": "code",
   "execution_count": 6,
   "metadata": {},
   "outputs": [],
   "source": [
    "def false_negative(y_true, y_pred):\r\n",
    "    fn =0 \r\n",
    "    for yt, yp in zip(y_true, y_pred):\r\n",
    "        if yt==1 and yp==0:\r\n",
    "            fn +=1\r\n",
    "    return fn"
   ]
  },
  {
   "cell_type": "code",
   "execution_count": 8,
   "metadata": {},
   "outputs": [],
   "source": [
    "def recall(y_true, y_pred):\r\n",
    "    tp = true_positive(y_true, y_pred)\r\n",
    "    fn = false_negative(y_true, y_pred)\r\n",
    "    recall = tp/(tp+fn)\r\n",
    "    return recall"
   ]
  },
  {
   "cell_type": "code",
   "execution_count": 9,
   "metadata": {},
   "outputs": [
    {
     "data": {
      "text/plain": [
       "0.5"
      ]
     },
     "execution_count": 9,
     "metadata": {},
     "output_type": "execute_result"
    }
   ],
   "source": [
    "l1 = [0,1,1,1,0,0,0,1]\r\n",
    "l2 = [0,1, 0,1,0,1,0,0] \r\n",
    "recall(l1, l2)"
   ]
  },
  {
   "cell_type": "code",
   "execution_count": 12,
   "metadata": {},
   "outputs": [],
   "source": [
    "def false_positive(y_true, y_pred):\r\n",
    "    fp =0 \r\n",
    "    for yt, yp in zip(y_true, y_pred):\r\n",
    "        if yt==0 and yp==1:\r\n",
    "            fp +=1\r\n",
    "    return fp"
   ]
  },
  {
   "cell_type": "code",
   "execution_count": 13,
   "metadata": {},
   "outputs": [],
   "source": [
    "def precision(y_true, y_pred):\r\n",
    "    tp = true_positive(y_true, y_pred)\r\n",
    "    fp = false_positive(y_true, y_pred)\r\n",
    "    precision = tp/(tp+fp)\r\n",
    "    return precision"
   ]
  },
  {
   "cell_type": "code",
   "execution_count": 29,
   "metadata": {},
   "outputs": [],
   "source": [
    "y_true = [0, 0, 0, 1, 0, 0, 0, 0, 0, 0,\r\n",
    "         1, 0, 0, 0, 0, 0, 0, 0, 1, 0]\r\n",
    "y_pred = [0.02638412, 0.11114267, 0.31620708,\r\n",
    "            0.0490937, 0.0191491, 0.17554844,\r\n",
    "            0.15952202, 0.03819563, 0.11639273,\r\n",
    "            0.079377, 0.08584789, 0.39095342,\r\n",
    "            0.27259048, 0.03447096, 0.04644807,\r\n",
    "            0.03543574, 0.18521942, 0.05934905,\r\n",
    "            0.61977213, 0.33056815]\r\n",
    "precisions = []\r\n",
    "recalls = []\r\n",
    "# how we assumed these thresholds is a long story\r\n",
    "thresholds = [0.0490937 , 0.05934905, 0.079377,\r\n",
    "0.08584789, 0.11114267, 0.11639273,\r\n",
    "0.15952202, 0.17554844, 0.18521942,\r\n",
    "0.27259048, 0.31620708, 0.33056815,\r\n",
    "0.39095342, 0.61977213]\r\n",
    "# với mỗi threshold, tính giá trị dự đoán \r\n",
    "for i in thresholds:\r\n",
    "    for x in y_pred:\r\n",
    "        # if x>=i:\r\n",
    "        #     temp_prediction=  1\r\n",
    "        # else:\r\n",
    "        #     temp_prediction =0\r\n",
    "        temp_prediction = [1 if x>= i else 0 for x in y_pred]\r\n",
    "        p = precision(y_true, temp_prediction)\r\n",
    "        r = recall(y_true, temp_prediction)\r\n",
    "        precisions.append(p)\r\n",
    "        recalls.append(r) "
   ]
  },
  {
   "cell_type": "code",
   "execution_count": 16,
   "metadata": {},
   "outputs": [
    {
     "data": {
      "text/plain": [
       "Text(0.5, 0, 'Precision')"
      ]
     },
     "execution_count": 16,
     "metadata": {},
     "output_type": "execute_result"
    },
    {
     "data": {
      "image/png": "[encoded data removed]",
      "text/plain": [
       "<Figure size 504x504 with 1 Axes>"
      ]
     },
     "metadata": {
      "needs_background": "light"
     },
     "output_type": "display_data"
    }
   ],
   "source": [
    "import matplotlib.pyplot as plt\r\n",
    "plt.figure(figsize = (7,7))\r\n",
    "plt.plot(recalls, precisions)\r\n",
    "plt.xlabel('Recall', fontsize =15)\r\n",
    "plt.xlabel('Precision', fontsize =15)"
   ]
  },
  {
   "cell_type": "code",
   "execution_count": 18,
   "metadata": {},
   "outputs": [],
   "source": [
    "def f1(y_true, y_pred):\r\n",
    "    p = precision(y_true, y_pred)\r\n",
    "    r = recall(y_true, y_pred)\r\n",
    "    f1_score = 2*p*r/(p+r)\r\n",
    "    return f1_score"
   ]
  },
  {
   "cell_type": "code",
   "execution_count": 19,
   "metadata": {},
   "outputs": [
    {
     "data": {
      "text/plain": [
       "0.5714285714285715"
      ]
     },
     "execution_count": 19,
     "metadata": {},
     "output_type": "execute_result"
    }
   ],
   "source": [
    "y_true = [0, 0, 0, 1, 0, 0, 0, 0, 0, 0,\r\n",
    "            1, 0, 0, 0, 0, 0, 0, 0, 1, 0]\r\n",
    "y_pred = [0, 0, 1, 0, 0, 0, 1, 0, 0, 0,\r\n",
    "1, 0, 0, 0, 0, 0, 0, 0, 1, 0]\r\n",
    "f1(y_true, y_pred)\r\n",
    "\r\n"
   ]
  },
  {
   "cell_type": "code",
   "execution_count": 20,
   "metadata": {},
   "outputs": [
    {
     "data": {
      "text/plain": [
       "0.5714285714285715"
      ]
     },
     "execution_count": 20,
     "metadata": {},
     "output_type": "execute_result"
    }
   ],
   "source": [
    "from sklearn import metrics\r\n",
    "metrics.f1_score(y_true, y_pred)"
   ]
  },
  {
   "cell_type": "code",
   "execution_count": 37,
   "metadata": {},
   "outputs": [],
   "source": [
    "def tpr(y_true, y_pred):\r\n",
    "    return recall(y_true, y_pred)"
   ]
  },
  {
   "cell_type": "code",
   "execution_count": 38,
   "metadata": {},
   "outputs": [],
   "source": [
    "def true_negative(y_true, y_pred):\r\n",
    "    tn = 0\r\n",
    "    for yt, yp in zip(y_true, y_pred):\r\n",
    "        if yt == 0 and yp ==0:\r\n",
    "            tn+=1\r\n",
    "    return tn"
   ]
  },
  {
   "cell_type": "code",
   "execution_count": 36,
   "metadata": {},
   "outputs": [],
   "source": [
    "def fpr(y_true, y_pred):\r\n",
    "    fp = false_positive(y_true, y_pred)\r\n",
    "    tn = true_negative(y_true, y_pred)\r\n",
    "    return fp/(tn+fp)\r\n",
    "    "
   ]
  },
  {
   "cell_type": "code",
   "execution_count": 40,
   "metadata": {},
   "outputs": [
    {
     "name": "stdout",
     "output_type": "stream",
     "text": [
      "[1.0, 1.0, 1.0, 0.8, 0.8, 0.8, 0.8, 0.6, 0.6, 0.4, 0.4, 0.2, 0.0]\n"
     ]
    }
   ],
   "source": [
    "tpr_list = []\r\n",
    "fpr_list = []\r\n",
    "#nhãn thật\r\n",
    "# actual targets\r\n",
    "y_true = [0, 0, 0, 0, 1, 0, 1,\r\n",
    "            0, 0, 1, 0, 1, 0, 0, 1]\r\n",
    "# predicted probabilities of a sample being 1\r\n",
    "y_pred = [0.1, 0.3, 0.2, 0.6, 0.8, 0.05,\r\n",
    "0.9, 0.5, 0.3, 0.66, 0.3, 0.2,\r\n",
    "0.85, 0.15, 0.99]\r\n",
    "\r\n",
    "# handmade thresholds\r\n",
    "thresholds = [0, 0.1, 0.2, 0.3, 0.4, 0.5,\r\n",
    "0.6, 0.7, 0.8, 0.85, 0.9, 0.99, 1.0]\r\n",
    "\r\n",
    "#loop over all thresholds:\r\n",
    "for thresh in thresholds:\r\n",
    "    temp_pred = [1 if x>= thresh else 0 for x in y_pred]\r\n",
    "    temp_tpr = tpr(y_true, temp_pred)\r\n",
    "    temp_fpr = fpr(y_true, temp_pred)\r\n",
    "\r\n",
    "    # p = precision(y_true, temp_prediction)\r\n",
    "    # r = recall(y_true, temp_prediction)\r\n",
    "    tpr_list.append(temp_tpr)\r\n",
    "    fpr_list.append(temp_fpr)\r\n",
    "print(tpr_list)"
   ]
  },
  {
   "cell_type": "code",
   "execution_count": 42,
   "metadata": {},
   "outputs": [
    {
     "data": {
      "text/plain": [
       "Text(0, 0.5, 'TPR')"
      ]
     },
     "execution_count": 42,
     "metadata": {},
     "output_type": "execute_result"
    },
    {
     "data": {
      "image/png": "[encoded data removed]",
      "text/plain": [
       "<Figure size 504x504 with 1 Axes>"
      ]
     },
     "metadata": {
      "needs_background": "light"
     },
     "output_type": "display_data"
    }
   ],
   "source": [
    "plt.figure(figsize=(7,7))\r\n",
    "plt.fill_between(fpr_list, tpr_list, alpha=0.4)\r\n",
    "plt.plot(fpr_list, tpr_list, lw=3)\r\n",
    "plt.xlim(0,1.0)\r\n",
    "plt.ylim(0,1.0)\r\n",
    "plt.xlabel('FPR')\r\n",
    "plt.ylabel('TPR')"
   ]
  },
  {
   "cell_type": "code",
   "execution_count": 43,
   "metadata": {},
   "outputs": [
    {
     "data": {
      "text/plain": [
       "0.8300000000000001"
      ]
     },
     "execution_count": 43,
     "metadata": {},
     "output_type": "execute_result"
    }
   ],
   "source": [
    "#AUC example\r\n",
    "y_true = [0, 0, 0, 0, 1, 0, 1,\r\n",
    "        0, 0, 1, 0, 1, 0, 0, 1]\r\n",
    "y_pred = [0.1, 0.3, 0.2, 0.6, 0.8, 0.05,\r\n",
    "        0.9, 0.5, 0.3, 0.66, 0.3, 0.2,\r\n",
    "        0.85, 0.15, 0.99]\r\n",
    "metrics.roc_auc_score(y_true, y_pred)\r\n"
   ]
  },
  {
   "cell_type": "code",
   "execution_count": 45,
   "metadata": {},
   "outputs": [],
   "source": [
    "# How thresholds impacts TP and FP\r\n",
    "tp_list = []\r\n",
    "fp_list = []\r\n",
    "# actual targets\r\n",
    "y_true = [0, 0, 0, 0, 1, 0, 1,\r\n",
    "0, 0, 1, 0, 1, 0, 0, 1]\r\n",
    "# predicted probabilities of a sample being 1\r\n",
    "y_pred = [0.1, 0.3, 0.2, 0.6, 0.8, 0.05,\r\n",
    "0.9, 0.5, 0.3, 0.66, 0.3, 0.2,\r\n",
    "0.85, 0.15, 0.99]\r\n",
    "# some handmade thresholds\r\n",
    "thresholds = [0, 0.1, 0.2, 0.3, 0.4, 0.5,\r\n",
    "0.6, 0.7, 0.8, 0.85, 0.9, 0.99, 1.0]\r\n",
    "\r\n",
    "#loop over all thresholds:\r\n",
    "for thresh in thresholds:\r\n",
    "    #calculate predictions for a given threshold \r\n",
    "    temp_pred = [1 if x>=thresh else 0 for x in y_pred]\r\n",
    "    #calculate tp \r\n",
    "    temp_tp = true_positive(y_true, temp_pred)\r\n",
    "    #calculate fp\r\n",
    "    temp_fp = false_positive(y_true, temp_pred)\r\n",
    "    #append tp and fp to lists \r\n",
    "    tp_list.append(temp_tp)\r\n",
    "    fp_list.append(temp_fp)"
   ]
  },
  {
   "cell_type": "code",
   "execution_count": 46,
   "metadata": {},
   "outputs": [],
   "source": [
    "import numpy as np\r\n",
    "def log_loss(y_true, y_proba):\r\n",
    "    #function to calculate fpr\r\n",
    "    #define an epsilon value \r\n",
    "    epsilon = 1e-15\r\n",
    "    #khởi tạo một mảng rỗng để lưu loss\r\n",
    "    loss = []\r\n",
    "    #loop over all true and predicted probability values\r\n",
    "    for yt, yp in zip(y_true, y_proba):\r\n",
    "        yp = np.clip(yp, epsilon, 1-epsilon)\r\n",
    "        #calculate loss for one sample\r\n",
    "        temp_loss = -1.0*(yt*np.log(yp)+(1-yt)*np.log(1-yp))\r\n",
    "        #add to loss list\r\n",
    "        loss.append(temp_loss)\r\n",
    "    #return mean loss over all samples\r\n",
    "    return np.mean(loss)"
   ]
  },
  {
   "cell_type": "code",
   "execution_count": 47,
   "metadata": {},
   "outputs": [
    {
     "data": {
      "text/plain": [
       "0.49882711861432294"
      ]
     },
     "execution_count": 47,
     "metadata": {},
     "output_type": "execute_result"
    }
   ],
   "source": [
    "y_true = [0, 0, 0, 0, 1, 0, 1,\r\n",
    "0, 0, 1, 0, 1, 0, 0, 1]\r\n",
    "y_proba = [0.1, 0.3, 0.2, 0.6, 0.8, 0.05,\r\n",
    "0.9, 0.5, 0.3, 0.66, 0.3, 0.2,\r\n",
    "0.85, 0.15, 0.99]\r\n",
    "log_loss(y_true, y_proba)\r\n",
    "\r\n"
   ]
  },
  {
   "cell_type": "code",
   "execution_count": 49,
   "metadata": {},
   "outputs": [
    {
     "data": {
      "text/plain": [
       "0.49882711861432294"
      ]
     },
     "execution_count": 49,
     "metadata": {},
     "output_type": "execute_result"
    }
   ],
   "source": [
    "from sklearn import metrics\r\n",
    "metrics.log_loss(y_true, y_proba) \r\n"
   ]
  },
  {
   "cell_type": "code",
   "execution_count": 50,
   "metadata": {},
   "outputs": [],
   "source": [
    "import numpy as np\r\n",
    "def macro_precision(y_true, y_pred):\r\n",
    "    #calculate macro averaged precision \r\n",
    "    num_classes = len(np.unique(y_true))\r\n",
    "    #initialize precision =0\r\n",
    "    precision =0 \r\n",
    "    #loop over all classes\r\n",
    "    for class_ in range(num_classes):\r\n",
    "        #all classes except current are considered negative \r\n",
    "        temp_true = [1 if p == class_ else 0 for p in y_true]\r\n",
    "        temp_pred = [1 if p==class_ else 0 for p in y_true]\r\n",
    "        tp = true_positive(temp_true, temp_pred)\r\n",
    "        fp = false_positive(temp_true, temp_pred)\r\n",
    "        temp_precision = tp/(tp+fp)\r\n",
    "        precision += temp_precision \r\n",
    "\r\n",
    "    precision /= num_classes \r\n",
    "    return precision"
   ]
  },
  {
   "cell_type": "code",
   "execution_count": 55,
   "metadata": {},
   "outputs": [],
   "source": [
    "from collections import Counter\r\n",
    "import numpy as np\r\n",
    "def weighted_f1(y_true, y_pred):\r\n",
    "    #tìm số classes bằng cách lấy chiều dài các giá trị duy nhất trong true list\r\n",
    "    num_classes = len(np.unique(y_true))\r\n",
    "    #create class:sample count dictionary \r\n",
    "    class_counts = Counter(y_true)\r\n",
    "    #initialize f1 to 0 \r\n",
    "    f1 =0 \r\n",
    "    #loop over all classes \r\n",
    "    for class_ in range(num_classes):\r\n",
    "        #all classes except current are considered negative \r\n",
    "        temp_true = [1 if p == class_ else 0 for p in y_true]\r\n",
    "        temp_pred = [1 if p == class_ else 0 for p in y_pred]\r\n",
    "        #calculate precision and recall for class\r\n",
    "        p = precision(temp_true, temp_pred)\r\n",
    "        r = recall(temp_true, temp_pred)\r\n",
    "\r\n",
    "        #calculate f1 of class:\r\n",
    "        if p+r !=0:\r\n",
    "            temp_f1 = 2*p*r/(p+r)\r\n",
    "        else:\r\n",
    "            temp_f1 = 0 \r\n",
    "        #multiply f1 with count of samples in class\r\n",
    "        weighted_f1 = class_counts[class_]*temp_f1 \r\n",
    "        #add to f1 precision\r\n",
    "        f1 += weighted_f1\r\n",
    "        #calculate overall F1 by dividing by total number of samples\r\n",
    "        overall_f1 = f1/len(y_true)\r\n",
    "        return overall_f1"
   ]
  },
  {
   "cell_type": "code",
   "execution_count": 56,
   "metadata": {},
   "outputs": [
    {
     "data": {
      "text/plain": [
       "0.2857142857142857"
      ]
     },
     "execution_count": 56,
     "metadata": {},
     "output_type": "execute_result"
    }
   ],
   "source": [
    "from sklearn import metrics \r\n",
    "y_true = [0, 1, 2, 0, 1, 2, 0, 2, 2]\r\n",
    "y_pred = [0, 2, 1, 0, 2, 1, 0, 0, 2]\r\n",
    "\r\n",
    "weighted_f1(y_true, y_pred)\r\n",
    "# metrics.f1_score(y_true, y_pred, average = 'weighted')\r\n"
   ]
  },
  {
   "cell_type": "code",
   "execution_count": 6,
   "metadata": {},
   "outputs": [
    {
     "data": {
      "text/plain": [
       "Text(0.5, 50.5, 'Predicted Labels')"
      ]
     },
     "execution_count": 6,
     "metadata": {},
     "output_type": "execute_result"
    },
    {
     "data": {
      "image/png": "[encoded data removed]",
      "text/plain": [
       "<Figure size 720x720 with 1 Axes>"
      ]
     },
     "metadata": {
      "needs_background": "light"
     },
     "output_type": "display_data"
    }
   ],
   "source": [
    "import matplotlib.pyplot as plt\r\n",
    "import seaborn as sns \r\n",
    "from sklearn import metrics \r\n",
    "#target\r\n",
    "y_true = [0, 1, 2, 0, 1, 2, 0, 2, 2]\r\n",
    "# predictions\r\n",
    "y_pred = [0, 2, 1, 0, 2, 1, 0, 0, 2]\r\n",
    "\r\n",
    "#confusion matrix from sklearn\r\n",
    "cm = metrics.confusion_matrix(y_true, y_pred)\r\n",
    "\r\n",
    "#plot using matplotlib and seaborn \r\n",
    "plt.figure(figsize=(10,10))\r\n",
    "cmap = sns.cubehelix_palette(50, hue=0.05, rot =0 , light = 0.9, dark = 0, as_cmap =True)\r\n",
    "sns.set(font_scale = 2.5)\r\n",
    "# sns.set(font_scale =2.5)\r\n",
    "sns.heatmap(cm, annot = True, cmap =cmap, cbar = False)\r\n",
    "plt.ylabel('Actual Labels', fontsize=20)\r\n",
    "plt.xlabel('Predicted Labels', fontsize=20)"
   ]
  },
  {
   "cell_type": "code",
   "execution_count": 7,
   "metadata": {},
   "outputs": [],
   "source": [
    "#multi-label -   Presicion at k \r\n",
    "def pk(y_true, y_pred, k):\r\n",
    "    # if k = 0, return 0 , never have this \r\n",
    "    if k ==0: \r\n",
    "        return 0\r\n",
    "    #chỉ quan tâm dự đoán k thăng đầu\r\n",
    "    y_pred = y_pred[:k]\r\n",
    "    pred_set = set(y_pred)\r\n",
    "    true_set = set(y_true)\r\n",
    "    #find common values \r\n",
    "    common_values = pred_set.intersection(true_set)\r\n",
    "    # return length of common values over k \r\n",
    "    return len(common_values)/len(y_pred[:k])\r\n",
    "    "
   ]
  },
  {
   "cell_type": "code",
   "execution_count": 9,
   "metadata": {},
   "outputs": [],
   "source": [
    "def apk(y_true, y_pred, k):\r\n",
    "\r\n",
    "    # initialize p@k list of values\r\n",
    "    pk_values = []\r\n",
    "    # loop over all k. from 1 to k + 1\r\n",
    "    for i in range(1, k + 1):\r\n",
    "    # calculate p@i and append to list\r\n",
    "        pk_values.append(pk(y_true, y_pred, i))\r\n",
    "    # if we have no values in the list, return 0\r\n",
    "    if len(pk_values) == 0:\r\n",
    "        return 0\r\n",
    "    # else, we return the sum of list over length of list\r\n",
    "    return sum(pk_values) / len(pk_values)"
   ]
  },
  {
   "cell_type": "code",
   "execution_count": 11,
   "metadata": {},
   "outputs": [
    {
     "name": "stdout",
     "output_type": "stream",
     "text": [
      "\"\n",
      "            y_true = [1, 2, 3], \n",
      "            y_pred = [0, 1, 2],\n",
      "            AP@1 = 0.0\n",
      "            \n",
      "\"\n",
      "            y_true = [1, 2, 3], \n",
      "            y_pred = [0, 1, 2],\n",
      "            AP@2 = 0.25\n",
      "            \n",
      "\"\n",
      "            y_true = [1, 2, 3], \n",
      "            y_pred = [0, 1, 2],\n",
      "            AP@3 = 0.38888888888888884\n",
      "            \n",
      "\"\n",
      "            y_true = [0, 2], \n",
      "            y_pred = [1],\n",
      "            AP@1 = 0.0\n",
      "            \n",
      "\"\n",
      "            y_true = [0, 2], \n",
      "            y_pred = [1],\n",
      "            AP@2 = 0.0\n",
      "            \n",
      "\"\n",
      "            y_true = [0, 2], \n",
      "            y_pred = [1],\n",
      "            AP@3 = 0.0\n",
      "            \n",
      "\"\n",
      "            y_true = [1], \n",
      "            y_pred = [0, 2, 3],\n",
      "            AP@1 = 0.0\n",
      "            \n",
      "\"\n",
      "            y_true = [1], \n",
      "            y_pred = [0, 2, 3],\n",
      "            AP@2 = 0.0\n",
      "            \n",
      "\"\n",
      "            y_true = [1], \n",
      "            y_pred = [0, 2, 3],\n",
      "            AP@3 = 0.0\n",
      "            \n",
      "\"\n",
      "            y_true = [2, 3], \n",
      "            y_pred = [2, 3, 4, 0],\n",
      "            AP@1 = 1.0\n",
      "            \n",
      "\"\n",
      "            y_true = [2, 3], \n",
      "            y_pred = [2, 3, 4, 0],\n",
      "            AP@2 = 1.0\n",
      "            \n",
      "\"\n",
      "            y_true = [2, 3], \n",
      "            y_pred = [2, 3, 4, 0],\n",
      "            AP@3 = 0.8888888888888888\n",
      "            \n",
      "\"\n",
      "            y_true = [1, 0], \n",
      "            y_pred = [0, 1, 2],\n",
      "            AP@1 = 1.0\n",
      "            \n",
      "\"\n",
      "            y_true = [1, 0], \n",
      "            y_pred = [0, 1, 2],\n",
      "            AP@2 = 1.0\n",
      "            \n",
      "\"\n",
      "            y_true = [1, 0], \n",
      "            y_pred = [0, 1, 2],\n",
      "            AP@3 = 0.8888888888888888\n",
      "            \n",
      "\"\n",
      "            y_true = [], \n",
      "            y_pred = [0],\n",
      "            AP@1 = 0.0\n",
      "            \n",
      "\"\n",
      "            y_true = [], \n",
      "            y_pred = [0],\n",
      "            AP@2 = 0.0\n",
      "            \n",
      "\"\n",
      "            y_true = [], \n",
      "            y_pred = [0],\n",
      "            AP@3 = 0.0\n",
      "            \n"
     ]
    }
   ],
   "source": [
    "y_true = [\r\n",
    "        [1, 2, 3],\r\n",
    "        [0, 2],\r\n",
    "        [1],\r\n",
    "        [2, 3],\r\n",
    "        [1, 0],\r\n",
    "        []\r\n",
    "        ]\r\n",
    "\r\n",
    "y_pred = [\r\n",
    "        [0, 1, 2],\r\n",
    "        [1],\r\n",
    "        [0, 2, 3],\r\n",
    "        [2, 3, 4, 0],\r\n",
    "        [0, 1, 2],\r\n",
    "        [0]\r\n",
    "        ]\r\n",
    "for i in range(len(y_true)):\r\n",
    "    for j in range(1,4):\r\n",
    "        print(\r\n",
    "            f\"\"\"\"\r\n",
    "            y_true = {y_true[i]}, \r\n",
    "            y_pred = {y_pred[i]},\r\n",
    "            AP@{j} = {apk(y_true[i], y_pred[i], k = j)}\r\n",
    "            \"\"\"\r\n",
    "        )"
   ]
  },
  {
   "cell_type": "code",
   "execution_count": 14,
   "metadata": {},
   "outputs": [],
   "source": [
    "def mapk(y_true, y_pred, k):\r\n",
    "    \"\"\"\r\n",
    "    This function calculates mean avg precision at k\r\n",
    "    for a single sample\r\n",
    "    :param y_true: list of values, actual classes\r\n",
    "    :param y_pred: list of values, predicted classes\r\n",
    "    :return: mean avg precision at a given value k\r\n",
    "    \"\"\"\r\n",
    "    # initialize empty list for apk values\r\n",
    "    apk_values = []\r\n",
    "    # loop over all samples\r\n",
    "    for i in range(len(y_true)):\r\n",
    "    # store apk values for every sample\r\n",
    "        apk_values.append(\r\n",
    "            apk(y_true[i], y_pred[i], k=k)\r\n",
    "        )\r\n",
    "        # return mean of apk values list\r\n",
    "        return sum(apk_values) / len(apk_values)"
   ]
  },
  {
   "cell_type": "code",
   "execution_count": 19,
   "metadata": {},
   "outputs": [
    {
     "data": {
      "text/plain": [
       "0.38888888888888884"
      ]
     },
     "execution_count": 19,
     "metadata": {},
     "output_type": "execute_result"
    }
   ],
   "source": [
    "y_true = [\r\n",
    "        [1, 2, 3],\r\n",
    "        [0, 2],\r\n",
    "        [1],\r\n",
    "        [2, 3],\r\n",
    "        [1, 0],\r\n",
    "        []\r\n",
    "        ]\r\n",
    "\r\n",
    "y_pred = [\r\n",
    "        [0, 1, 2],\r\n",
    "        [1],\r\n",
    "        [0, 2, 3],\r\n",
    "        [2, 3, 4, 0],\r\n",
    "        [0, 1, 2],\r\n",
    "        [0]\r\n",
    "        ]\r\n",
    "mapk(y_true, y_pred, k =3)\r\n"
   ]
  },
  {
   "cell_type": "code",
   "execution_count": 21,
   "metadata": {},
   "outputs": [],
   "source": [
    "import numpy as np\r\n",
    "def mean_absolute_error(y_true, y_pred):\r\n",
    "\r\n",
    "    # initialize error at 0\r\n",
    "    error = 0\r\n",
    "    # loop over all samples in the true and predicted list\r\n",
    "    for yt, yp in zip(y_true, y_pred):\r\n",
    "    # calculate absolute error\r\n",
    "    # and add to error\r\n",
    "        error += np.abs(yt - yp)\r\n",
    "        # return mean error\r\n",
    "        return error / len(y_true) "
   ]
  },
  {
   "cell_type": "code",
   "execution_count": 22,
   "metadata": {},
   "outputs": [],
   "source": [
    "def mean_squared_error(y_true, y_pred):\r\n",
    "\r\n",
    "    # initialize error at 0\r\n",
    "    error = 0\r\n",
    "    # loop over all samples in the true and predicted list\r\n",
    "    for yt, yp in zip(y_true, y_pred):\r\n",
    "        # calculate squared error\r\n",
    "        # and add to error\r\n",
    "        error += (yt - yp) ** 2\r\n",
    "        # return mean error\r\n",
    "        return error / len(y_true)"
   ]
  },
  {
   "cell_type": "code",
   "execution_count": 23,
   "metadata": {},
   "outputs": [],
   "source": [
    "def mean_squared_error(y_true, y_pred):\r\n",
    "\r\n",
    "    # initialize error at 0\r\n",
    "    error = 0\r\n",
    "    # loop over all samples in the true and predicted list\r\n",
    "    for yt, yp in zip(y_true, y_pred):\r\n",
    "        # calculate squared error\r\n",
    "        # and add to error\r\n",
    "        error += (yt - yp) ** 2\r\n",
    "        # return mean error\r\n",
    "        return error / len(y_true)\r\n"
   ]
  },
  {
   "cell_type": "code",
   "execution_count": 24,
   "metadata": {},
   "outputs": [],
   "source": [
    "def mean_squared_error(y_true, y_pred):\r\n",
    "\r\n",
    "    # initialize error at 0\r\n",
    "    error = 0\r\n",
    "    # loop over all samples in the true and predicted list\r\n",
    "    for yt, yp in zip(y_true, y_pred):\r\n",
    "        # calculate squared error\r\n",
    "        # and add to error\r\n",
    "        error += (yt - yp) ** 2\r\n",
    "        # return mean error\r\n",
    "        return error / len(y_true)"
   ]
  },
  {
   "cell_type": "code",
   "execution_count": 25,
   "metadata": {},
   "outputs": [],
   "source": [
    "def mean_squared_error(y_true, y_pred):\r\n",
    "\r\n",
    "    # initialize error at 0\r\n",
    "    error = 0\r\n",
    "    # loop over all samples in the true and predicted list\r\n",
    "    for yt, yp in zip(y_true, y_pred):\r\n",
    "        # calculate squared error\r\n",
    "        # and add to error\r\n",
    "        error += (yt - yp) ** 2\r\n",
    "        # return mean error\r\n",
    "        return error / len(y_true)"
   ]
  },
  {
   "cell_type": "code",
   "execution_count": 27,
   "metadata": {},
   "outputs": [],
   "source": [
    "import numpy as np\r\n",
    "def r2(y_true, y_pred):\r\n",
    "    # calculate the mean value of true values\r\n",
    "    mean_true_value = np.mean(y_true)\r\n",
    "    # initialize numerator with 0\r\n",
    "    numerator = 0\r\n",
    "    # initialize denominator with 0\r\n",
    "    denominator = 0\r\n",
    "    # loop over all true and predicted values\r\n",
    "    for yt, yp in zip(y_true, y_pred):\r\n",
    "        # update numerator\r\n",
    "        numerator += (yt - yp) ** 2\r\n",
    "        # update denominator\r\n",
    "        denominator += (yt - mean_true_value) ** 2\r\n",
    "        # calculate the ratio\r\n",
    "        ratio = numerator / denominator\r\n",
    "        # return 1 - ratio\r\n",
    "        return 1 - ratio"
   ]
  },
  {
   "cell_type": "code",
   "execution_count": 28,
   "metadata": {},
   "outputs": [],
   "source": [
    "import numpy as np\r\n",
    "def mae_np(y_true, y_pred):\r\n",
    "    return np.mean(np.abs(y_true - y_pred))"
   ]
  },
  {
   "cell_type": "code",
   "execution_count": 29,
   "metadata": {},
   "outputs": [],
   "source": [
    "#Mathew' Correlation Coefficient (MCC)\r\n",
    "def mcc(y_true, y_pred):\r\n",
    "\r\n",
    "    tp = true_positive(y_true, y_pred)\r\n",
    "    tn = true_negative(y_true, y_pred)\r\n",
    "    fp = false_positive(y_true, y_pred)\r\n",
    "    fn = false_negative(y_true, y_pred)\r\n",
    "    numerator = (tp * tn) - (fp * fn)\r\n",
    "    denominator = (\r\n",
    "    (tp + fp) *\r\n",
    "    (fn + tn) *\r\n",
    "    (fp + tn) *\r\n",
    "    (tp + fn)\r\n",
    "    )\r\n",
    "    denominator = denominator ** 0.5\r\n",
    "    return numerator/denominator"
   ]
  },
  {
   "cell_type": "code",
   "execution_count": null,
   "metadata": {},
   "outputs": [],
   "source": []
  }
 ],
 "metadata": {
  "interpreter": {
   "hash": "9f54772c6dbcef3e2bbb3b58a12d0ea93cc39e8d73ca8d1792b5e194a83990cc"
  },
  "kernelspec": {
   "display_name": "Python 3.8.3 64-bit ('base': conda)",
   "name": "python3"
  },
  "language_info": {
   "name": "python",
   "version": ""
  },
  "orig_nbformat": 4
 },
 "nbformat": 4,
 "nbformat_minor": 2
}